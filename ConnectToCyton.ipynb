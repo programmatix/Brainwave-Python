{
 "cells": [
  {
   "cell_type": "code",
   "id": "initial_id",
   "metadata": {
    "collapsed": true,
    "ExecuteTime": {
     "end_time": "2024-09-17T12:07:39.135409Z",
     "start_time": "2024-09-17T12:07:39.130917Z"
    }
   },
   "source": [
    "import logging\n",
    "logging.basicConfig(level=logging.DEBUG, format='%(asctime)s - %(levelname)s - %(message)s', force=True)\n"
   ],
   "outputs": [],
   "execution_count": 11
  },
  {
   "metadata": {
    "ExecuteTime": {
     "end_time": "2024-09-17T17:52:37.163697Z",
     "start_time": "2024-09-17T17:52:14.495731Z"
    }
   },
   "cell_type": "code",
   "source": [
    "from brainflow.board_shim import BoardShim, BrainFlowInputParams, BoardIds, LogLevels\n",
    "import time\n",
    "\n",
    "# Enable detailed logging\n",
    "BoardShim.enable_dev_board_logger()  # Use LEVEL_INFO for less verbosity\n",
    "BoardShim.set_log_file(\"brainflow.log\")\n",
    "BoardShim.log_message(LogLevels.LEVEL_INFO, \"BrainFlow ready to go\")\n",
    "# Set up BrainFlow input parameters\n",
    "params = BrainFlowInputParams()\n",
    "params.serial_port = 'COM11'  # Replace with your serial port\n",
    "\n",
    "# Initialize Cyton board\n",
    "board = BoardShim(BoardIds.CYTON_BOARD.value, params)\n",
    "board.prepare_session()\n",
    "\n",
    "# Command to start recording on SD card\n",
    "print(\"Sending command to start recording on SD card...\")\n",
    "board.config_board('!')\n",
    "board.config_board('2')\n",
    "board.config_board('3')\n",
    "board.config_board('4')\n",
    "board.config_board('5')\n",
    "board.config_board('6')\n",
    "board.config_board('7')\n",
    "board.config_board('8')\n",
    "board.config_board('A')\n",
    "# board.config_board('K') 12HR\n",
    "\n",
    "# Start streaming from the board\n",
    "board.start_stream()\n",
    "\n",
    "\n",
    "# Wait for some time while recording (in seconds)\n",
    "time.sleep(5)  # Record for 10 seconds\n",
    "\n",
    "# Stop recording\n",
    "print(\"Sending command to stop recording on SD card...\")\n",
    "board.config_board('j')\n",
    "\n",
    "# Stop streaming\n",
    "board.stop_stream()\n",
    "\n",
    "# Release session\n",
    "board.release_session()\n"
   ],
   "id": "a6331935e8d770f1",
   "outputs": [
    {
     "name": "stdout",
     "output_type": "stream",
     "text": [
      "Sending command to start recording on SD card...\n",
      "Sending command to stop recording on SD card...\n"
     ]
    }
   ],
   "execution_count": 20
  },
  {
   "metadata": {},
   "cell_type": "code",
   "outputs": [],
   "execution_count": null,
   "source": "",
   "id": "c875521b17daabec"
  }
 ],
 "metadata": {
  "kernelspec": {
   "display_name": "Python 3",
   "language": "python",
   "name": "python3"
  },
  "language_info": {
   "codemirror_mode": {
    "name": "ipython",
    "version": 2
   },
   "file_extension": ".py",
   "mimetype": "text/x-python",
   "name": "python",
   "nbconvert_exporter": "python",
   "pygments_lexer": "ipython2",
   "version": "2.7.6"
  }
 },
 "nbformat": 4,
 "nbformat_minor": 5
}
